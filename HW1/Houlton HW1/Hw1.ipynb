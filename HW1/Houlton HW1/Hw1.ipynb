{
 "cells": [
  {
   "cell_type": "markdown",
   "metadata": {},
   "source": [
    "# Homework #1\n",
    "Due 11:59 pm EST, **Sunday Feb 13th, 2022**\n",
    "Email your solutions (both .ipnb and .html files) to:\n",
    "compscbio@gmail.com.\n",
    "\n",
    "### Goal: Ensure that you ...\n",
    "- have basic, practical knowledge of Python\n",
    "- are able to install Python packages\n",
    "- are able to use and create Jupyter notebooks\n",
    "- can apply this knowledge to explore one aspect of self-renewal\n",
    "\n"
   ]
  },
  {
   "cell_type": "markdown",
   "metadata": {},
   "source": [
    "<hr>"
   ]
  },
  {
   "cell_type": "markdown",
   "metadata": {},
   "source": [
    "### Preamble: functions\n",
    "In class, we did not cover the syntax for defining your own functions. Let's cover this now. Note that we use the `randint` function from the random module, and so need to import this module. Typically, you should import all of the modules that you will need at the start of your session. So, I am going to put some other import statements here that we won't need until later in the homework. Please install modules, as needed, using either `pip` or anaconda."
   ]
  },
  {
   "cell_type": "code",
   "execution_count": 2,
   "metadata": {
    "tags": []
   },
   "outputs": [],
   "source": [
    "import random\n",
    "import nltk\n",
    "import matplotlib.pyplot as plt\n",
    "import numpy as np\n",
    "import pandas as pd\n",
    "import seaborn as sns"
   ]
  },
  {
   "cell_type": "markdown",
   "metadata": {},
   "source": [
    "Here is a funky little function. It just prints a string passed to the function a random number of times between 1 and 10."
   ]
  },
  {
   "cell_type": "code",
   "execution_count": 2,
   "metadata": {},
   "outputs": [],
   "source": [
    "def myFirstFunction(arg1):\n",
    "    \"\"\"This is just an example; it doesn't do anything useful\"\"\"\n",
    "    times_to_repeat = random.randint(1,10)\n",
    "    for i in range(0,times_to_repeat):\n",
    "        print(arg1)\n",
    "        \n",
    "    return times_to_repeat\n"
   ]
  },
  {
   "cell_type": "code",
   "execution_count": 3,
   "metadata": {},
   "outputs": [
    {
     "name": "stdout",
     "output_type": "stream",
     "text": [
      "howdy\n",
      "howdy\n",
      "howdy\n",
      "howdy\n"
     ]
    },
    {
     "data": {
      "text/plain": [
       "4"
      ]
     },
     "execution_count": 3,
     "metadata": {},
     "output_type": "execute_result"
    }
   ],
   "source": [
    "myFirstFunction(\"howdy\")\n"
   ]
  },
  {
   "cell_type": "markdown",
   "metadata": {},
   "source": [
    "When you create a function, you need to use the `def` keyword, then supply your function name, followed by the names of arguments that need to be passed to the function enclosed in parenthesis, followed by `:`. Then the following indented suite of code is where you define what the function will do. The first line should be text enclosed in three pairs of double quotes. This is what will be returned when `help(yourFunction)` is invoked. Therefore, give some thought to this text and make it a pithy description of your function. If you do not end the function suite with an explicit call to `return`, the the function will by default return `None`."
   ]
  },
  {
   "cell_type": "markdown",
   "metadata": {},
   "source": [
    "<hr>"
   ]
  },
  {
   "cell_type": "markdown",
   "metadata": {},
   "source": [
    "### Part 1: Write a function `prose_generator`.\n",
    "The first thing that you must do for this homework is to define a function that writes a number of English sentences. The user will be asked to specify the number of sentences. The function will also need to take in as input lists of nouns and predicates. The function will construct and print out sentences of the pattern: (noun, predicate), by randomly selecting words from the corresponding lists. Below, we get you started with the skeleton of the function. \n",
    "\n",
    "To get full credit for Part 1, your answer must include a function that takes as input the number of sentences to create, and lists of user-supplied nouns and predicates. The lists can be entered either by prompting the user, or by specifying a file(s) that contains the words. If the former, define your examples in your notebook. If the latter, inlcude them as supplemental files with your submission. Your function must randomly select from these lists to make sentences that start with the noun and end with the predicate. Finally, your function must output the specified number of sentences."
   ]
  },
  {
   "cell_type": "code",
   "execution_count": 17,
   "metadata": {},
   "outputs": [],
   "source": [
    "# Part 1: modify the function skeleton below to meet the conditions stated above\n",
    "\n",
    "import random\n",
    "\n",
    "def prose_generator(num_sentences, n_file_loc, p_file_loc):\n",
    "    \"\"\" a function that writes [beautiful] prose \"\"\"\n",
    "    # put your code here\n",
    "    \n",
    "    with open(n_file_loc) as nf:\n",
    "        nouns = nf.read()\n",
    "    nouns = nouns.split(\",\")\n",
    "\n",
    "    with open(p_file_loc) as pf:\n",
    "        predicates = pf.read()\n",
    "    predicates = predicates.split(\",\")\n",
    "    print(\"\")\n",
    "    \n",
    "    for x in range(num_sentences):\n",
    "        rand_noun = random.choice(nouns)\n",
    "        rand_predicate = random.choice(predicates)\n",
    "        print(rand_noun.strip()+ \" \" + rand_predicate.strip())\n",
    "    \n",
    "    return\n"
   ]
  },
  {
   "cell_type": "code",
   "execution_count": 18,
   "metadata": {},
   "outputs": [
    {
     "name": "stdout",
     "output_type": "stream",
     "text": [
      "\n",
      "stem cell slept on the bed\n",
      "animal threw\n",
      "gold replicates\n",
      "log was run over\n",
      "hair slept on the bed\n",
      "gold threw\n",
      "honey fell\n",
      "hair has fun\n",
      "animal has fun\n",
      "stem cell slept on the bed\n",
      "airport slept on the bed\n",
      "honey has fun\n"
     ]
    }
   ],
   "source": [
    "# Part 1: Show us an example of running your function here\n",
    "prose_generator(12, \"nouns.txt\", \"predicates.txt\")\n",
    "\n"
   ]
  },
  {
   "cell_type": "markdown",
   "metadata": {},
   "source": [
    "<HR>"
   ]
  },
  {
   "cell_type": "markdown",
   "metadata": {},
   "source": [
    "### Part 2: Improve your function\n",
    "Your function probably does not have much error checking so far. And, it is possible that a random sentence will be generated more than once. I don't know about you, but I find it mildly annoying when people say the same thing repeatedly. So, your second task is to modify your function (or create a new one) so that the following conditions are met:\n",
    "\n",
    "(A) That the nouns are actually nouns.\n",
    "(B) That at least two valid nouns and two predicates are entered \n",
    "(C) That a sentence is printed at most once. In other words, prevent the function from outputing duplicate sentences.\n",
    "\n",
    "To achieve (A), you can compare the user-supplied nouns against the long list of nouns that we show you how to extract from the NLTK resource below. If the noun supplied does not occur in this list, then your function must at the very least, notify the user. To get full credit for Part 2, your new or modified sentence-generator function must do the same things as in Part 1, plus it must meet the conditions (A-C). "
   ]
  },
  {
   "cell_type": "markdown",
   "metadata": {},
   "source": [
    "You will need to install the following resources from nltk (see next code cell). For more information about the NLTK resource: https://www.nltk.org/data.html \n",
    "\n",
    "The post that we found useful to get a list of lots of Enlgish nouns: https://stackoverflow.com/questions/17753182/getting-a-large-list-of-nouns-or-adjectives-in-python-with-nltk-or-python-mad\n"
   ]
  },
  {
   "cell_type": "code",
   "execution_count": 21,
   "metadata": {
    "scrolled": true
   },
   "outputs": [
    {
     "name": "stderr",
     "output_type": "stream",
     "text": [
      "[nltk_data] Downloading package omw-1.4 to\n",
      "[nltk_data]     C:\\Users\\Sarah\\AppData\\Roaming\\nltk_data...\n",
      "[nltk_data]   Package omw-1.4 is already up-to-date!\n",
      "[nltk_data] Downloading package wordnet to\n",
      "[nltk_data]     C:\\Users\\Sarah\\AppData\\Roaming\\nltk_data...\n",
      "[nltk_data]   Package wordnet is already up-to-date!\n"
     ]
    },
    {
     "data": {
      "text/plain": [
       "True"
      ]
     },
     "execution_count": 21,
     "metadata": {},
     "output_type": "execute_result"
    }
   ],
   "source": [
    "nltk.download('omw-1.4')\n",
    "nltk.download(\"wordnet\")"
   ]
  },
  {
   "cell_type": "code",
   "execution_count": 22,
   "metadata": {},
   "outputs": [],
   "source": [
    "from nltk.corpus import wordnet as wn"
   ]
  },
  {
   "cell_type": "code",
   "execution_count": 23,
   "metadata": {},
   "outputs": [],
   "source": [
    "import random\n",
    "\n",
    "def prose_generator_error_checked(num_sentences, n_file_loc, p_file_loc):\n",
    "    \"\"\" a function that writes [beautiful] prose \"\"\"\n",
    "\n",
    "    # pulled in from above cell\n",
    "    all_nouns = []\n",
    "    for synset in wn.all_synsets('n'):\n",
    "        all_nouns.extend(synset.lemma_names())\n",
    "    \n",
    "    with open(n_file_loc) as nf:\n",
    "        nouns = nf.read()\n",
    "    nouns = nouns.split(\",\")\n",
    "    if len(nouns) < 2:\n",
    "        print(\"Not enough nouns in file.\")\n",
    "        return\n",
    "    else:\n",
    "        valid_nouns = 0\n",
    "        for noun in nouns:\n",
    "            noun = noun.strip()\n",
    "            if valid_nouns >= 2:\n",
    "                break\n",
    "            if noun in all_nouns:\n",
    "                valid_nouns = valid_nouns + 1\n",
    "        if valid_nouns < 2:\n",
    "            print(\"Not enough valid nouns in file.\")\n",
    "            return\n",
    "    \n",
    "    with open(p_file_loc) as pf:\n",
    "        predicates = pf.read()\n",
    "    predicates = predicates.split(\",\")\n",
    "    print(\"\")\n",
    "    if len(predicates) < 2:\n",
    "        print(\"Not enough predicates in file.\")\n",
    "        return\n",
    "    \n",
    "    sentence_history = []\n",
    "    \n",
    "    while len(sentence_history) < num_sentences:\n",
    "        sentence = \"\"\n",
    "        rand_noun = random.choice(nouns).strip()\n",
    "        if rand_noun in all_nouns:\n",
    "            sentence = str(rand_noun)\n",
    "            rand_predicate = random.choice(predicates)\n",
    "            sentence = sentence + \" \" + str(rand_predicate)\n",
    "            if sentence not in sentence_history:\n",
    "                print(sentence)\n",
    "                sentence_history.append(sentence)\n",
    "            elif sentence in sentence_history:\n",
    "                print(\"Repeat sentence, regenerating.\")\n",
    "        else:\n",
    "            print(\"Invalid noun, regenerating.\")  \n",
    "    return\n"
   ]
  },
  {
   "cell_type": "markdown",
   "metadata": {},
   "source": [
    "#### Repeat sentence and invalid noun check"
   ]
  },
  {
   "cell_type": "code",
   "execution_count": 24,
   "metadata": {
    "scrolled": true
   },
   "outputs": [
    {
     "name": "stdout",
     "output_type": "stream",
     "text": [
      "\n",
      "painting  replicates\n",
      "lizard  slept on the bed\n",
      "painting fell\n",
      "guitar  has fun\n",
      "lizard  combusted\n",
      "lizard  has fun\n",
      "hair  combusted\n",
      "hair  threw\n",
      "guitar  took a nap in the sun\n",
      "actor  took a nap in the sun\n",
      "painting  deflated\n",
      "airport  replicates\n",
      "hamburger  deflated\n",
      "painting  threw\n",
      "honey  slept on the bed\n",
      "Repeat sentence, regenerating.\n",
      "Invalid noun, regenerating.\n",
      "Invalid noun, regenerating.\n",
      "lizard  replicates\n",
      "airport  has fun\n",
      "honey  threw\n",
      "tomato  slept on the bed\n",
      "tomato  threw\n",
      "tomato  was run over\n",
      "Invalid noun, regenerating.\n",
      "lizard  was run over\n",
      "hair  was cooking\n",
      "animal fell\n",
      "Invalid noun, regenerating.\n",
      "honey  deflated\n"
     ]
    }
   ],
   "source": [
    "prose_generator_error_checked(25, \"nouns.txt\", \"predicates.txt\")"
   ]
  },
  {
   "cell_type": "markdown",
   "metadata": {},
   "source": [
    "#### Invalid noun file check"
   ]
  },
  {
   "cell_type": "code",
   "execution_count": 25,
   "metadata": {},
   "outputs": [
    {
     "name": "stdout",
     "output_type": "stream",
     "text": [
      "Not enough valid nouns in file.\n"
     ]
    }
   ],
   "source": [
    "prose_generator_error_checked(10, 'one noun.txt', 'predicates.txt')"
   ]
  },
  {
   "cell_type": "markdown",
   "metadata": {},
   "source": [
    "#### Invalid predicate file check"
   ]
  },
  {
   "cell_type": "code",
   "execution_count": 26,
   "metadata": {},
   "outputs": [
    {
     "name": "stdout",
     "output_type": "stream",
     "text": [
      "\n",
      "Not enough predicates in file.\n"
     ]
    }
   ],
   "source": [
    "prose_generator_error_checked(10, 'nouns.txt', 'one predicate.txt')"
   ]
  },
  {
   "cell_type": "code",
   "execution_count": 27,
   "metadata": {},
   "outputs": [
    {
     "data": {
      "text/plain": [
       "146347"
      ]
     },
     "execution_count": 27,
     "metadata": {},
     "output_type": "execute_result"
    }
   ],
   "source": [
    "all_nouns = []\n",
    "for synset in wn.all_synsets('n'):\n",
    "    all_nouns.extend(synset.lemma_names())\n",
    "len(all_nouns)"
   ]
  },
  {
   "cell_type": "code",
   "execution_count": 28,
   "metadata": {
    "scrolled": true
   },
   "outputs": [
    {
     "data": {
      "text/plain": [
       "True"
      ]
     },
     "execution_count": 28,
     "metadata": {},
     "output_type": "execute_result"
    }
   ],
   "source": [
    "\"carrot\" in all_nouns"
   ]
  },
  {
   "cell_type": "code",
   "execution_count": 29,
   "metadata": {},
   "outputs": [
    {
     "data": {
      "text/plain": [
       "False"
      ]
     },
     "execution_count": 29,
     "metadata": {},
     "output_type": "execute_result"
    }
   ],
   "source": [
    "\"faba-laba\" in all_nouns"
   ]
  },
  {
   "cell_type": "markdown",
   "metadata": {},
   "source": [
    "<HR>"
   ]
  },
  {
   "cell_type": "markdown",
   "metadata": {},
   "source": [
    "### Part 3: Use Pandas (+ Numpy), and Seaborn (+ Matplotlib)\n",
    "\n",
    "Next week (actually this week), we are going to start using Scanpy to analyze scRNAseq data. The Scanpy package is excellent at making it easy to analyze this type of data. But when you are just getting started, this can almost be *too* easy because it hides a lot of important details. The goal of this section is to expose you to some aspects of cleaning and selecting data, and to some basic visualization functions. This will give you a better idea of what is happening under-the-hood with packages such as Scanpy (or Seurat in R).\n",
    "\n",
    "In this section, you need to:\n",
    "\n",
    "- (A) Load a gene expression data set ([expression table](https://compstemcellbio.s3.amazonaws.com/2022/homework/01/hw1_gex_df.csv); [meta-data](https://compstemcellbio.s3.amazonaws.com/2022/homework/01/hw1_gex_sampTab.csv))\n",
    "- (B) Remove genes that are not expressed above a selected threshold\n",
    "- (C) Create boxplot of the expression of one of my favorite genes, Pou5f1, across cell/tissue types\n",
    "- (D) Identify the top 5 genes in terms of mean expression per cell/tissue type & plot a heatmap of these genes (ordered)\n",
    "- (E) Compute the similarity of samples & plot a heatmap of them (ordered)\n",
    "\n",
    "To do this somewhat efficiently, you might want to look at the following documentation:\n",
    "\n",
    "- https://pandas.pydata.org/pandas-docs/stable/user_guide/indexing.html\n",
    "- https://pandas.pydata.org/docs/reference/api/pandas.DataFrame.max.html\n",
    "- https://pandas.pydata.org/pandas-docs/stable/user_guide/merging.html\n",
    "- https://seaborn.pydata.org/generated/seaborn.boxplot.html\n",
    "- https://pandas.pydata.org/docs/reference/api/pandas.DataFrame.groupby.html\n",
    "- https://pandas.pydata.org/docs/reference/api/pandas.DataFrame.mean.html\n",
    "- https://pandas.pydata.org/docs/reference/api/pandas.DataFrame.rank.html\n",
    "- https://pandas.pydata.org/docs/reference/api/pandas.DataFrame.sort_values.html\n",
    "- https://seaborn.pydata.org/introduction.html\n",
    "- https://seaborn.pydata.org/generated/seaborn.heatmap.html\n",
    "\n",
    "If it sounds like a lot, don't worry it will be fun!\n"
   ]
  },
  {
   "cell_type": "markdown",
   "metadata": {},
   "source": [
    "#### 3A: Load the data\n",
    "\n",
    "Download the expression matrix and meta-data from the links above. Use the Pandas `read_csv()` to load these. This will create a Pandas DataFrame. \n",
    "\n",
    "This mouse data comes from one of our papers, where we compiled previously published RNA-Seq data for classification purposes. There are 16 cell/tissue types, each represented by approximately 60 or more individual samples. Later, in Step 3C, you should also load the metadata, which indicates the cell/tissue type for each sample.\n"
   ]
  },
  {
   "cell_type": "code",
   "execution_count": 7,
   "metadata": {},
   "outputs": [
    {
     "data": {
      "text/html": [
       "<div>\n",
       "<style scoped>\n",
       "    .dataframe tbody tr th:only-of-type {\n",
       "        vertical-align: middle;\n",
       "    }\n",
       "\n",
       "    .dataframe tbody tr th {\n",
       "        vertical-align: top;\n",
       "    }\n",
       "\n",
       "    .dataframe thead th {\n",
       "        text-align: right;\n",
       "    }\n",
       "</style>\n",
       "<table border=\"1\" class=\"dataframe\">\n",
       "  <thead>\n",
       "    <tr style=\"text-align: right;\">\n",
       "      <th></th>\n",
       "      <th>Unnamed: 0</th>\n",
       "      <th>Gm4245</th>\n",
       "      <th>Gm28553</th>\n",
       "      <th>Pcdh11x</th>\n",
       "      <th>Mpp5</th>\n",
       "      <th>Gm21961</th>\n",
       "      <th>Cndp1</th>\n",
       "      <th>Fancm</th>\n",
       "      <th>Gm20732</th>\n",
       "      <th>Mir741</th>\n",
       "      <th>...</th>\n",
       "      <th>Tnfrsf8</th>\n",
       "      <th>Olfr651</th>\n",
       "      <th>Fam186b</th>\n",
       "      <th>Gm6455</th>\n",
       "      <th>Agxt</th>\n",
       "      <th>Pou5f1</th>\n",
       "      <th>Nkx2-5</th>\n",
       "      <th>Ptprc</th>\n",
       "      <th>Hnf4a</th>\n",
       "      <th>Pecam1</th>\n",
       "    </tr>\n",
       "  </thead>\n",
       "  <tbody>\n",
       "    <tr>\n",
       "      <th>0</th>\n",
       "      <td>sample_1</td>\n",
       "      <td>0.147629</td>\n",
       "      <td>0.0</td>\n",
       "      <td>0.000000</td>\n",
       "      <td>2.111865</td>\n",
       "      <td>0.022333</td>\n",
       "      <td>0.080255</td>\n",
       "      <td>1.422557</td>\n",
       "      <td>0.027474</td>\n",
       "      <td>0.0</td>\n",
       "      <td>...</td>\n",
       "      <td>0.000000</td>\n",
       "      <td>0.0</td>\n",
       "      <td>0.054212</td>\n",
       "      <td>0.0</td>\n",
       "      <td>0.000000</td>\n",
       "      <td>0.027474</td>\n",
       "      <td>0.0</td>\n",
       "      <td>5.542296</td>\n",
       "      <td>0.027473</td>\n",
       "      <td>3.553855</td>\n",
       "    </tr>\n",
       "    <tr>\n",
       "      <th>1</th>\n",
       "      <td>sample_2</td>\n",
       "      <td>0.000000</td>\n",
       "      <td>0.0</td>\n",
       "      <td>0.097222</td>\n",
       "      <td>1.576759</td>\n",
       "      <td>0.092026</td>\n",
       "      <td>0.000000</td>\n",
       "      <td>0.776741</td>\n",
       "      <td>0.000000</td>\n",
       "      <td>0.0</td>\n",
       "      <td>...</td>\n",
       "      <td>0.429022</td>\n",
       "      <td>0.0</td>\n",
       "      <td>0.025192</td>\n",
       "      <td>0.0</td>\n",
       "      <td>0.000000</td>\n",
       "      <td>0.000000</td>\n",
       "      <td>0.0</td>\n",
       "      <td>5.941280</td>\n",
       "      <td>0.000000</td>\n",
       "      <td>2.066980</td>\n",
       "    </tr>\n",
       "    <tr>\n",
       "      <th>2</th>\n",
       "      <td>sample_3</td>\n",
       "      <td>0.130551</td>\n",
       "      <td>0.0</td>\n",
       "      <td>0.000000</td>\n",
       "      <td>0.830908</td>\n",
       "      <td>0.002097</td>\n",
       "      <td>0.000000</td>\n",
       "      <td>0.374792</td>\n",
       "      <td>0.000000</td>\n",
       "      <td>0.0</td>\n",
       "      <td>...</td>\n",
       "      <td>0.000000</td>\n",
       "      <td>0.0</td>\n",
       "      <td>0.141058</td>\n",
       "      <td>0.0</td>\n",
       "      <td>0.000000</td>\n",
       "      <td>0.000000</td>\n",
       "      <td>0.0</td>\n",
       "      <td>4.867573</td>\n",
       "      <td>0.003087</td>\n",
       "      <td>3.215040</td>\n",
       "    </tr>\n",
       "    <tr>\n",
       "      <th>3</th>\n",
       "      <td>sample_4</td>\n",
       "      <td>0.055605</td>\n",
       "      <td>0.0</td>\n",
       "      <td>0.005671</td>\n",
       "      <td>0.766059</td>\n",
       "      <td>0.003636</td>\n",
       "      <td>0.000000</td>\n",
       "      <td>0.606007</td>\n",
       "      <td>0.000000</td>\n",
       "      <td>0.0</td>\n",
       "      <td>...</td>\n",
       "      <td>0.135851</td>\n",
       "      <td>0.0</td>\n",
       "      <td>0.022492</td>\n",
       "      <td>0.0</td>\n",
       "      <td>0.000000</td>\n",
       "      <td>0.000000</td>\n",
       "      <td>0.0</td>\n",
       "      <td>4.361936</td>\n",
       "      <td>0.000000</td>\n",
       "      <td>2.774697</td>\n",
       "    </tr>\n",
       "    <tr>\n",
       "      <th>4</th>\n",
       "      <td>sample_5</td>\n",
       "      <td>0.059316</td>\n",
       "      <td>0.0</td>\n",
       "      <td>0.007381</td>\n",
       "      <td>0.565881</td>\n",
       "      <td>0.013234</td>\n",
       "      <td>0.000000</td>\n",
       "      <td>0.203025</td>\n",
       "      <td>0.002466</td>\n",
       "      <td>0.0</td>\n",
       "      <td>...</td>\n",
       "      <td>0.315742</td>\n",
       "      <td>0.0</td>\n",
       "      <td>0.000000</td>\n",
       "      <td>0.0</td>\n",
       "      <td>0.000000</td>\n",
       "      <td>0.000000</td>\n",
       "      <td>0.0</td>\n",
       "      <td>4.666947</td>\n",
       "      <td>0.004927</td>\n",
       "      <td>2.283596</td>\n",
       "    </tr>\n",
       "    <tr>\n",
       "      <th>...</th>\n",
       "      <td>...</td>\n",
       "      <td>...</td>\n",
       "      <td>...</td>\n",
       "      <td>...</td>\n",
       "      <td>...</td>\n",
       "      <td>...</td>\n",
       "      <td>...</td>\n",
       "      <td>...</td>\n",
       "      <td>...</td>\n",
       "      <td>...</td>\n",
       "      <td>...</td>\n",
       "      <td>...</td>\n",
       "      <td>...</td>\n",
       "      <td>...</td>\n",
       "      <td>...</td>\n",
       "      <td>...</td>\n",
       "      <td>...</td>\n",
       "      <td>...</td>\n",
       "      <td>...</td>\n",
       "      <td>...</td>\n",
       "      <td>...</td>\n",
       "    </tr>\n",
       "    <tr>\n",
       "      <th>2239</th>\n",
       "      <td>sample_2240</td>\n",
       "      <td>0.338880</td>\n",
       "      <td>0.0</td>\n",
       "      <td>0.052662</td>\n",
       "      <td>1.161058</td>\n",
       "      <td>0.008289</td>\n",
       "      <td>0.000000</td>\n",
       "      <td>0.337817</td>\n",
       "      <td>0.005528</td>\n",
       "      <td>0.0</td>\n",
       "      <td>...</td>\n",
       "      <td>0.000000</td>\n",
       "      <td>0.0</td>\n",
       "      <td>0.008280</td>\n",
       "      <td>0.0</td>\n",
       "      <td>2.993981</td>\n",
       "      <td>0.002768</td>\n",
       "      <td>0.0</td>\n",
       "      <td>0.667728</td>\n",
       "      <td>4.065463</td>\n",
       "      <td>0.940854</td>\n",
       "    </tr>\n",
       "    <tr>\n",
       "      <th>2240</th>\n",
       "      <td>sample_2241</td>\n",
       "      <td>0.444273</td>\n",
       "      <td>0.0</td>\n",
       "      <td>0.047892</td>\n",
       "      <td>1.020713</td>\n",
       "      <td>0.007842</td>\n",
       "      <td>0.000000</td>\n",
       "      <td>0.429795</td>\n",
       "      <td>0.000000</td>\n",
       "      <td>0.0</td>\n",
       "      <td>...</td>\n",
       "      <td>0.000000</td>\n",
       "      <td>0.0</td>\n",
       "      <td>0.002722</td>\n",
       "      <td>0.0</td>\n",
       "      <td>2.717027</td>\n",
       "      <td>0.000000</td>\n",
       "      <td>0.0</td>\n",
       "      <td>0.421592</td>\n",
       "      <td>4.090254</td>\n",
       "      <td>0.689249</td>\n",
       "    </tr>\n",
       "    <tr>\n",
       "      <th>2241</th>\n",
       "      <td>sample_2242</td>\n",
       "      <td>0.381473</td>\n",
       "      <td>0.0</td>\n",
       "      <td>0.048824</td>\n",
       "      <td>1.079871</td>\n",
       "      <td>0.010265</td>\n",
       "      <td>0.000000</td>\n",
       "      <td>0.391007</td>\n",
       "      <td>0.003122</td>\n",
       "      <td>0.0</td>\n",
       "      <td>...</td>\n",
       "      <td>0.000000</td>\n",
       "      <td>0.0</td>\n",
       "      <td>0.003122</td>\n",
       "      <td>0.0</td>\n",
       "      <td>2.651440</td>\n",
       "      <td>0.006235</td>\n",
       "      <td>0.0</td>\n",
       "      <td>0.717469</td>\n",
       "      <td>4.179704</td>\n",
       "      <td>0.815488</td>\n",
       "    </tr>\n",
       "    <tr>\n",
       "      <th>2242</th>\n",
       "      <td>sample_2243</td>\n",
       "      <td>0.229207</td>\n",
       "      <td>0.0</td>\n",
       "      <td>0.035038</td>\n",
       "      <td>0.989093</td>\n",
       "      <td>0.019556</td>\n",
       "      <td>0.000000</td>\n",
       "      <td>0.361692</td>\n",
       "      <td>0.000000</td>\n",
       "      <td>0.0</td>\n",
       "      <td>...</td>\n",
       "      <td>0.000000</td>\n",
       "      <td>0.0</td>\n",
       "      <td>0.011994</td>\n",
       "      <td>0.0</td>\n",
       "      <td>2.526887</td>\n",
       "      <td>0.000000</td>\n",
       "      <td>0.0</td>\n",
       "      <td>0.740862</td>\n",
       "      <td>4.343498</td>\n",
       "      <td>1.096610</td>\n",
       "    </tr>\n",
       "    <tr>\n",
       "      <th>2243</th>\n",
       "      <td>sample_2244</td>\n",
       "      <td>0.345074</td>\n",
       "      <td>0.0</td>\n",
       "      <td>0.031098</td>\n",
       "      <td>1.088073</td>\n",
       "      <td>0.014643</td>\n",
       "      <td>0.000000</td>\n",
       "      <td>0.342077</td>\n",
       "      <td>0.005965</td>\n",
       "      <td>0.0</td>\n",
       "      <td>...</td>\n",
       "      <td>0.000000</td>\n",
       "      <td>0.0</td>\n",
       "      <td>0.005965</td>\n",
       "      <td>0.0</td>\n",
       "      <td>2.629090</td>\n",
       "      <td>0.002987</td>\n",
       "      <td>0.0</td>\n",
       "      <td>0.270107</td>\n",
       "      <td>4.098016</td>\n",
       "      <td>0.822994</td>\n",
       "    </tr>\n",
       "  </tbody>\n",
       "</table>\n",
       "<p>2244 rows × 106 columns</p>\n",
       "</div>"
      ],
      "text/plain": [
       "       Unnamed: 0    Gm4245  Gm28553   Pcdh11x      Mpp5   Gm21961     Cndp1  \\\n",
       "0        sample_1  0.147629      0.0  0.000000  2.111865  0.022333  0.080255   \n",
       "1        sample_2  0.000000      0.0  0.097222  1.576759  0.092026  0.000000   \n",
       "2        sample_3  0.130551      0.0  0.000000  0.830908  0.002097  0.000000   \n",
       "3        sample_4  0.055605      0.0  0.005671  0.766059  0.003636  0.000000   \n",
       "4        sample_5  0.059316      0.0  0.007381  0.565881  0.013234  0.000000   \n",
       "...           ...       ...      ...       ...       ...       ...       ...   \n",
       "2239  sample_2240  0.338880      0.0  0.052662  1.161058  0.008289  0.000000   \n",
       "2240  sample_2241  0.444273      0.0  0.047892  1.020713  0.007842  0.000000   \n",
       "2241  sample_2242  0.381473      0.0  0.048824  1.079871  0.010265  0.000000   \n",
       "2242  sample_2243  0.229207      0.0  0.035038  0.989093  0.019556  0.000000   \n",
       "2243  sample_2244  0.345074      0.0  0.031098  1.088073  0.014643  0.000000   \n",
       "\n",
       "         Fancm   Gm20732  Mir741  ...   Tnfrsf8  Olfr651   Fam186b  Gm6455  \\\n",
       "0     1.422557  0.027474     0.0  ...  0.000000      0.0  0.054212     0.0   \n",
       "1     0.776741  0.000000     0.0  ...  0.429022      0.0  0.025192     0.0   \n",
       "2     0.374792  0.000000     0.0  ...  0.000000      0.0  0.141058     0.0   \n",
       "3     0.606007  0.000000     0.0  ...  0.135851      0.0  0.022492     0.0   \n",
       "4     0.203025  0.002466     0.0  ...  0.315742      0.0  0.000000     0.0   \n",
       "...        ...       ...     ...  ...       ...      ...       ...     ...   \n",
       "2239  0.337817  0.005528     0.0  ...  0.000000      0.0  0.008280     0.0   \n",
       "2240  0.429795  0.000000     0.0  ...  0.000000      0.0  0.002722     0.0   \n",
       "2241  0.391007  0.003122     0.0  ...  0.000000      0.0  0.003122     0.0   \n",
       "2242  0.361692  0.000000     0.0  ...  0.000000      0.0  0.011994     0.0   \n",
       "2243  0.342077  0.005965     0.0  ...  0.000000      0.0  0.005965     0.0   \n",
       "\n",
       "          Agxt    Pou5f1  Nkx2-5     Ptprc     Hnf4a    Pecam1  \n",
       "0     0.000000  0.027474     0.0  5.542296  0.027473  3.553855  \n",
       "1     0.000000  0.000000     0.0  5.941280  0.000000  2.066980  \n",
       "2     0.000000  0.000000     0.0  4.867573  0.003087  3.215040  \n",
       "3     0.000000  0.000000     0.0  4.361936  0.000000  2.774697  \n",
       "4     0.000000  0.000000     0.0  4.666947  0.004927  2.283596  \n",
       "...        ...       ...     ...       ...       ...       ...  \n",
       "2239  2.993981  0.002768     0.0  0.667728  4.065463  0.940854  \n",
       "2240  2.717027  0.000000     0.0  0.421592  4.090254  0.689249  \n",
       "2241  2.651440  0.006235     0.0  0.717469  4.179704  0.815488  \n",
       "2242  2.526887  0.000000     0.0  0.740862  4.343498  1.096610  \n",
       "2243  2.629090  0.002987     0.0  0.270107  4.098016  0.822994  \n",
       "\n",
       "[2244 rows x 106 columns]"
      ]
     },
     "execution_count": 7,
     "metadata": {},
     "output_type": "execute_result"
    }
   ],
   "source": [
    "# 3A: Enter your code for loading the file hw1_df.csv as a Data Frame and displaying part of it.\n",
    "mouse_data = pd.read_csv(\".\\hw1_gex_df.csv\")\n",
    "mouse_data"
   ]
  },
  {
   "cell_type": "markdown",
   "metadata": {},
   "source": [
    "#### 3B: Filter out genes whose maximum expression < 2\n",
    "You might consider using the `pd.loc` and `pd.max()` functions"
   ]
  },
  {
   "cell_type": "code",
   "execution_count": 82,
   "metadata": {},
   "outputs": [
    {
     "data": {
      "text/plain": [
       "(2244, 54)"
      ]
     },
     "execution_count": 82,
     "metadata": {},
     "output_type": "execute_result"
    }
   ],
   "source": [
    "# 3B: Enter your code for removing genes and print out the size of the resulting data frame\n",
    "mouse_data_minus_sample = mouse_data.iloc[: , 1:]\n",
    "first_column = mouse_data.iloc[:, :1]\n",
    "mouse_data_max = (mouse_data_minus_sample.max(numeric_only = True) > 2).values\n",
    "mouse_filtered =  mouse_data_minus_sample.loc[:,mouse_data_max]\n",
    "mouse_filtered.insert(0, 'Unnamed: 0', first_column)\n",
    "mouse_filtered.shape"
   ]
  },
  {
   "cell_type": "markdown",
   "metadata": {},
   "source": [
    "Limit genes to those that have maximum expression > 2"
   ]
  },
  {
   "cell_type": "markdown",
   "metadata": {},
   "source": [
    "#### 3C: Make a box and whiskers plot of the gene Pou5f1, grouped by cell/tissue type.\n",
    "To do this you will need to load the meta-data, linked to above. You might want to use the `pd.concat()` and `sns.boxplot()` functions."
   ]
  },
  {
   "cell_type": "code",
   "execution_count": 107,
   "metadata": {
    "scrolled": true
   },
   "outputs": [],
   "source": [
    "# 3C: Show you code for doing what you need to do to ultimatley make the boxplot. \n",
    "# And, of course, display the boxplot below, too\n",
    "\n",
    "meta_data = pd.read_csv(\"hw1_gex_sampTab.csv\")\n",
    "pou5f1 = mouse_data['Pou5f1']\n",
    "combo = pd.concat([meta_data, mouse_data['Pou5f1']], axis=1)"
   ]
  },
  {
   "cell_type": "code",
   "execution_count": 108,
   "metadata": {},
   "outputs": [
    {
     "data": {
      "text/plain": [
       "<AxesSubplot:xlabel='Pou5f1', ylabel='description1'>"
      ]
     },
     "execution_count": 108,
     "metadata": {},
     "output_type": "execute_result"
    },
    {
     "data": {
      "image/png": "[encoded data removed]",
      "text/plain": [
       "<Figure size 432x288 with 1 Axes>"
      ]
     },
     "metadata": {
      "needs_background": "light"
     },
     "output_type": "display_data"
    }
   ],
   "source": [
    "sns.boxplot(x='Pou5f1', y='description1',data=combo)"
   ]
  },
  {
   "cell_type": "code",
   "execution_count": 109,
   "metadata": {},
   "outputs": [
    {
     "data": {
      "text/plain": [
       "<AxesSubplot:xlabel='Pou5f1', ylabel='description6'>"
      ]
     },
     "execution_count": 109,
     "metadata": {},
     "output_type": "execute_result"
    },
    {
     "data": {
      "image/png": "[encoded data removed]",
      "text/plain": [
       "<Figure size 432x288 with 1 Axes>"
      ]
     },
     "metadata": {
      "needs_background": "light"
     },
     "output_type": "display_data"
    }
   ],
   "source": [
    "sns.boxplot(x='Pou5f1', y='description6',data=combo)"
   ]
  },
  {
   "cell_type": "markdown",
   "metadata": {},
   "source": [
    "#### 3D: Determine the top 5 genes expressed per cell/tissue type\n",
    "Once you have done so, make a heatmap showing expression of these genes across all samples. To get full credit for this, you need to \n",
    "\n",
    "- exclude duplicate genes (i.e. genes that are in the top 5 in more than one cell/tissue type)\n",
    "- order the samples by cell/tissue type\n",
    "\n",
    "You might want to use the Pandas functions `groupby` and `mean` and `sort_values` here, and it may be useful to do some type conversions. Do use `sns.heatmap()` for plotting."
   ]
  },
  {
   "cell_type": "code",
   "execution_count": 121,
   "metadata": {},
   "outputs": [
    {
     "data": {
      "text/html": [
       "<div>\n",
       "<style scoped>\n",
       "    .dataframe tbody tr th:only-of-type {\n",
       "        vertical-align: middle;\n",
       "    }\n",
       "\n",
       "    .dataframe tbody tr th {\n",
       "        vertical-align: top;\n",
       "    }\n",
       "\n",
       "    .dataframe thead th {\n",
       "        text-align: right;\n",
       "    }\n",
       "</style>\n",
       "<table border=\"1\" class=\"dataframe\">\n",
       "  <thead>\n",
       "    <tr style=\"text-align: right;\">\n",
       "      <th></th>\n",
       "      <th>Gm28553</th>\n",
       "      <th>Gm24298</th>\n",
       "      <th>Mir741</th>\n",
       "      <th>Gm22074</th>\n",
       "      <th>Gm22470</th>\n",
       "      <th>Gm24929</th>\n",
       "      <th>CU467659.2</th>\n",
       "      <th>Gm25860</th>\n",
       "      <th>Mir672</th>\n",
       "      <th>Gm23529</th>\n",
       "      <th>...</th>\n",
       "      <th>Mpp5</th>\n",
       "      <th>Cxcl12</th>\n",
       "      <th>Exoc2</th>\n",
       "      <th>Pecam1</th>\n",
       "      <th>Sort1</th>\n",
       "      <th>Ranbp9</th>\n",
       "      <th>Ptprc</th>\n",
       "      <th>Rfc1</th>\n",
       "      <th>Sep15</th>\n",
       "      <th>Txndc5</th>\n",
       "    </tr>\n",
       "  </thead>\n",
       "  <tbody>\n",
       "    <tr>\n",
       "      <th>0</th>\n",
       "      <td>0.0</td>\n",
       "      <td>0.0</td>\n",
       "      <td>0.0</td>\n",
       "      <td>0.0</td>\n",
       "      <td>0.0</td>\n",
       "      <td>0.0</td>\n",
       "      <td>0.0</td>\n",
       "      <td>0.0</td>\n",
       "      <td>0.0</td>\n",
       "      <td>0.0</td>\n",
       "      <td>...</td>\n",
       "      <td>2.111865</td>\n",
       "      <td>0.178866</td>\n",
       "      <td>2.508055</td>\n",
       "      <td>3.553855</td>\n",
       "      <td>0.295517</td>\n",
       "      <td>2.975416</td>\n",
       "      <td>5.542296</td>\n",
       "      <td>2.020979</td>\n",
       "      <td>2.030830</td>\n",
       "      <td>2.329343</td>\n",
       "    </tr>\n",
       "    <tr>\n",
       "      <th>1</th>\n",
       "      <td>0.0</td>\n",
       "      <td>0.0</td>\n",
       "      <td>0.0</td>\n",
       "      <td>0.0</td>\n",
       "      <td>0.0</td>\n",
       "      <td>0.0</td>\n",
       "      <td>0.0</td>\n",
       "      <td>0.0</td>\n",
       "      <td>0.0</td>\n",
       "      <td>0.0</td>\n",
       "      <td>...</td>\n",
       "      <td>1.576759</td>\n",
       "      <td>0.122711</td>\n",
       "      <td>2.638034</td>\n",
       "      <td>2.066980</td>\n",
       "      <td>0.360264</td>\n",
       "      <td>2.310784</td>\n",
       "      <td>5.941280</td>\n",
       "      <td>1.635519</td>\n",
       "      <td>2.402608</td>\n",
       "      <td>2.375117</td>\n",
       "    </tr>\n",
       "    <tr>\n",
       "      <th>2</th>\n",
       "      <td>0.0</td>\n",
       "      <td>0.0</td>\n",
       "      <td>0.0</td>\n",
       "      <td>0.0</td>\n",
       "      <td>0.0</td>\n",
       "      <td>0.0</td>\n",
       "      <td>0.0</td>\n",
       "      <td>0.0</td>\n",
       "      <td>0.0</td>\n",
       "      <td>0.0</td>\n",
       "      <td>...</td>\n",
       "      <td>0.830908</td>\n",
       "      <td>0.159738</td>\n",
       "      <td>2.210323</td>\n",
       "      <td>3.215040</td>\n",
       "      <td>0.281143</td>\n",
       "      <td>2.178086</td>\n",
       "      <td>4.867573</td>\n",
       "      <td>1.647774</td>\n",
       "      <td>1.969386</td>\n",
       "      <td>2.843742</td>\n",
       "    </tr>\n",
       "    <tr>\n",
       "      <th>3</th>\n",
       "      <td>0.0</td>\n",
       "      <td>0.0</td>\n",
       "      <td>0.0</td>\n",
       "      <td>0.0</td>\n",
       "      <td>0.0</td>\n",
       "      <td>0.0</td>\n",
       "      <td>0.0</td>\n",
       "      <td>0.0</td>\n",
       "      <td>0.0</td>\n",
       "      <td>0.0</td>\n",
       "      <td>...</td>\n",
       "      <td>0.766059</td>\n",
       "      <td>0.440505</td>\n",
       "      <td>1.783912</td>\n",
       "      <td>2.774697</td>\n",
       "      <td>0.618340</td>\n",
       "      <td>1.684460</td>\n",
       "      <td>4.361936</td>\n",
       "      <td>0.985412</td>\n",
       "      <td>1.261368</td>\n",
       "      <td>2.443497</td>\n",
       "    </tr>\n",
       "    <tr>\n",
       "      <th>4</th>\n",
       "      <td>0.0</td>\n",
       "      <td>0.0</td>\n",
       "      <td>0.0</td>\n",
       "      <td>0.0</td>\n",
       "      <td>0.0</td>\n",
       "      <td>0.0</td>\n",
       "      <td>0.0</td>\n",
       "      <td>0.0</td>\n",
       "      <td>0.0</td>\n",
       "      <td>0.0</td>\n",
       "      <td>...</td>\n",
       "      <td>0.565881</td>\n",
       "      <td>0.361973</td>\n",
       "      <td>2.018824</td>\n",
       "      <td>2.283596</td>\n",
       "      <td>0.920374</td>\n",
       "      <td>1.435627</td>\n",
       "      <td>4.666947</td>\n",
       "      <td>0.908954</td>\n",
       "      <td>1.993959</td>\n",
       "      <td>2.481475</td>\n",
       "    </tr>\n",
       "    <tr>\n",
       "      <th>...</th>\n",
       "      <td>...</td>\n",
       "      <td>...</td>\n",
       "      <td>...</td>\n",
       "      <td>...</td>\n",
       "      <td>...</td>\n",
       "      <td>...</td>\n",
       "      <td>...</td>\n",
       "      <td>...</td>\n",
       "      <td>...</td>\n",
       "      <td>...</td>\n",
       "      <td>...</td>\n",
       "      <td>...</td>\n",
       "      <td>...</td>\n",
       "      <td>...</td>\n",
       "      <td>...</td>\n",
       "      <td>...</td>\n",
       "      <td>...</td>\n",
       "      <td>...</td>\n",
       "      <td>...</td>\n",
       "      <td>...</td>\n",
       "      <td>...</td>\n",
       "    </tr>\n",
       "    <tr>\n",
       "      <th>2239</th>\n",
       "      <td>0.0</td>\n",
       "      <td>0.0</td>\n",
       "      <td>0.0</td>\n",
       "      <td>0.0</td>\n",
       "      <td>0.0</td>\n",
       "      <td>0.0</td>\n",
       "      <td>0.0</td>\n",
       "      <td>0.0</td>\n",
       "      <td>0.0</td>\n",
       "      <td>0.0</td>\n",
       "      <td>...</td>\n",
       "      <td>1.161058</td>\n",
       "      <td>3.785734</td>\n",
       "      <td>0.837668</td>\n",
       "      <td>0.940854</td>\n",
       "      <td>0.810891</td>\n",
       "      <td>1.443834</td>\n",
       "      <td>0.667728</td>\n",
       "      <td>1.214105</td>\n",
       "      <td>2.289347</td>\n",
       "      <td>2.834083</td>\n",
       "    </tr>\n",
       "    <tr>\n",
       "      <th>2240</th>\n",
       "      <td>0.0</td>\n",
       "      <td>0.0</td>\n",
       "      <td>0.0</td>\n",
       "      <td>0.0</td>\n",
       "      <td>0.0</td>\n",
       "      <td>0.0</td>\n",
       "      <td>0.0</td>\n",
       "      <td>0.0</td>\n",
       "      <td>0.0</td>\n",
       "      <td>0.0</td>\n",
       "      <td>...</td>\n",
       "      <td>1.020713</td>\n",
       "      <td>3.487246</td>\n",
       "      <td>0.856337</td>\n",
       "      <td>0.689249</td>\n",
       "      <td>1.557464</td>\n",
       "      <td>1.510465</td>\n",
       "      <td>0.421592</td>\n",
       "      <td>1.317558</td>\n",
       "      <td>2.350769</td>\n",
       "      <td>2.754201</td>\n",
       "    </tr>\n",
       "    <tr>\n",
       "      <th>2241</th>\n",
       "      <td>0.0</td>\n",
       "      <td>0.0</td>\n",
       "      <td>0.0</td>\n",
       "      <td>0.0</td>\n",
       "      <td>0.0</td>\n",
       "      <td>0.0</td>\n",
       "      <td>0.0</td>\n",
       "      <td>0.0</td>\n",
       "      <td>0.0</td>\n",
       "      <td>0.0</td>\n",
       "      <td>...</td>\n",
       "      <td>1.079871</td>\n",
       "      <td>3.488185</td>\n",
       "      <td>0.762940</td>\n",
       "      <td>0.815488</td>\n",
       "      <td>1.215627</td>\n",
       "      <td>1.461751</td>\n",
       "      <td>0.717469</td>\n",
       "      <td>1.158748</td>\n",
       "      <td>2.413141</td>\n",
       "      <td>2.910837</td>\n",
       "    </tr>\n",
       "    <tr>\n",
       "      <th>2242</th>\n",
       "      <td>0.0</td>\n",
       "      <td>0.0</td>\n",
       "      <td>0.0</td>\n",
       "      <td>0.0</td>\n",
       "      <td>0.0</td>\n",
       "      <td>0.0</td>\n",
       "      <td>0.0</td>\n",
       "      <td>0.0</td>\n",
       "      <td>0.0</td>\n",
       "      <td>0.0</td>\n",
       "      <td>...</td>\n",
       "      <td>0.989093</td>\n",
       "      <td>3.384973</td>\n",
       "      <td>0.825084</td>\n",
       "      <td>1.096610</td>\n",
       "      <td>1.470348</td>\n",
       "      <td>1.552735</td>\n",
       "      <td>0.740862</td>\n",
       "      <td>1.195396</td>\n",
       "      <td>2.325185</td>\n",
       "      <td>2.896605</td>\n",
       "    </tr>\n",
       "    <tr>\n",
       "      <th>2243</th>\n",
       "      <td>0.0</td>\n",
       "      <td>0.0</td>\n",
       "      <td>0.0</td>\n",
       "      <td>0.0</td>\n",
       "      <td>0.0</td>\n",
       "      <td>0.0</td>\n",
       "      <td>0.0</td>\n",
       "      <td>0.0</td>\n",
       "      <td>0.0</td>\n",
       "      <td>0.0</td>\n",
       "      <td>...</td>\n",
       "      <td>1.088073</td>\n",
       "      <td>3.501821</td>\n",
       "      <td>0.753654</td>\n",
       "      <td>0.822994</td>\n",
       "      <td>1.012979</td>\n",
       "      <td>1.446198</td>\n",
       "      <td>0.270107</td>\n",
       "      <td>1.127075</td>\n",
       "      <td>2.406548</td>\n",
       "      <td>2.771703</td>\n",
       "    </tr>\n",
       "  </tbody>\n",
       "</table>\n",
       "<p>2244 rows × 105 columns</p>\n",
       "</div>"
      ],
      "text/plain": [
       "      Gm28553  Gm24298  Mir741  Gm22074  Gm22470  Gm24929  CU467659.2  \\\n",
       "0         0.0      0.0     0.0      0.0      0.0      0.0         0.0   \n",
       "1         0.0      0.0     0.0      0.0      0.0      0.0         0.0   \n",
       "2         0.0      0.0     0.0      0.0      0.0      0.0         0.0   \n",
       "3         0.0      0.0     0.0      0.0      0.0      0.0         0.0   \n",
       "4         0.0      0.0     0.0      0.0      0.0      0.0         0.0   \n",
       "...       ...      ...     ...      ...      ...      ...         ...   \n",
       "2239      0.0      0.0     0.0      0.0      0.0      0.0         0.0   \n",
       "2240      0.0      0.0     0.0      0.0      0.0      0.0         0.0   \n",
       "2241      0.0      0.0     0.0      0.0      0.0      0.0         0.0   \n",
       "2242      0.0      0.0     0.0      0.0      0.0      0.0         0.0   \n",
       "2243      0.0      0.0     0.0      0.0      0.0      0.0         0.0   \n",
       "\n",
       "      Gm25860  Mir672  Gm23529  ...      Mpp5    Cxcl12     Exoc2    Pecam1  \\\n",
       "0         0.0     0.0      0.0  ...  2.111865  0.178866  2.508055  3.553855   \n",
       "1         0.0     0.0      0.0  ...  1.576759  0.122711  2.638034  2.066980   \n",
       "2         0.0     0.0      0.0  ...  0.830908  0.159738  2.210323  3.215040   \n",
       "3         0.0     0.0      0.0  ...  0.766059  0.440505  1.783912  2.774697   \n",
       "4         0.0     0.0      0.0  ...  0.565881  0.361973  2.018824  2.283596   \n",
       "...       ...     ...      ...  ...       ...       ...       ...       ...   \n",
       "2239      0.0     0.0      0.0  ...  1.161058  3.785734  0.837668  0.940854   \n",
       "2240      0.0     0.0      0.0  ...  1.020713  3.487246  0.856337  0.689249   \n",
       "2241      0.0     0.0      0.0  ...  1.079871  3.488185  0.762940  0.815488   \n",
       "2242      0.0     0.0      0.0  ...  0.989093  3.384973  0.825084  1.096610   \n",
       "2243      0.0     0.0      0.0  ...  1.088073  3.501821  0.753654  0.822994   \n",
       "\n",
       "         Sort1    Ranbp9     Ptprc      Rfc1     Sep15    Txndc5  \n",
       "0     0.295517  2.975416  5.542296  2.020979  2.030830  2.329343  \n",
       "1     0.360264  2.310784  5.941280  1.635519  2.402608  2.375117  \n",
       "2     0.281143  2.178086  4.867573  1.647774  1.969386  2.843742  \n",
       "3     0.618340  1.684460  4.361936  0.985412  1.261368  2.443497  \n",
       "4     0.920374  1.435627  4.666947  0.908954  1.993959  2.481475  \n",
       "...        ...       ...       ...       ...       ...       ...  \n",
       "2239  0.810891  1.443834  0.667728  1.214105  2.289347  2.834083  \n",
       "2240  1.557464  1.510465  0.421592  1.317558  2.350769  2.754201  \n",
       "2241  1.215627  1.461751  0.717469  1.158748  2.413141  2.910837  \n",
       "2242  1.470348  1.552735  0.740862  1.195396  2.325185  2.896605  \n",
       "2243  1.012979  1.446198  0.270107  1.127075  2.406548  2.771703  \n",
       "\n",
       "[2244 rows x 105 columns]"
      ]
     },
     "execution_count": 121,
     "metadata": {},
     "output_type": "execute_result"
    }
   ],
   "source": [
    "# 3D: Put your code for this part here.\n",
    "data_sorted = mouse_data.reindex(mouse_data.mean().sort_values().index, axis=1)\n",
    "data_sorted"
   ]
  },
  {
   "cell_type": "code",
   "execution_count": 127,
   "metadata": {
    "scrolled": true
   },
   "outputs": [
    {
     "name": "stdout",
     "output_type": "stream",
     "text": [
      "('b_cell', 'blood')\n",
      "('dendritic_cell', 'blood')\n",
      "('esc', 'germ')\n",
      "('fibroblast', 'non_blood')\n",
      "('heart', 'non_blood')\n",
      "('hspc', 'blood')\n",
      "('intestine_colon', 'endoderm')\n",
      "('kidney', 'non_blood')\n",
      "('liver', 'endoderm')\n",
      "('lung', 'endoderm')\n",
      "('macrophage', 'blood')\n",
      "('neuron', 'ectoderm')\n",
      "('nk_cell', 'blood')\n",
      "('skeletal_muscle', 'non_blood')\n",
      "('t_cell', 'blood')\n",
      "('wat', 'non_blood')\n"
     ]
    }
   ],
   "source": [
    "all_data_with_metadata = pd.concat([meta_data, mouse_data], axis=1)\n",
    "# From https://stackoverflow.com/questions/14984119/python-pandas-remove-duplicate-columns - to remove duplicate columns\n",
    "all_data_with_metadata = all_data_with_metadata.loc[:,~all_data_with_metadata.columns.duplicated()]\n",
    "all_data_group = all_data_with_metadata.groupby(['description1','description6'])\n",
    "# From another Stack overflow question\n",
    "all_data_sorted = all_data_group.apply(lambda x: x.reindex(x.mean().sort_values().index, axis=1))\n",
    "\n",
    "for group in all_data_group.groups:\n",
    "        print(group)"
   ]
  },
  {
   "cell_type": "markdown",
   "metadata": {},
   "source": [
    "#### 3E: Compute the similarity between samples.\n",
    "Compute the Pearson correaltion coefficient between all pairs of samples. Plot this as a heatmap. Make sure the samples are ordered by cell/tissue type. You might want to use the Pandas `corr()` function. Be careful of what your are computing correlation of.\n"
   ]
  },
  {
   "cell_type": "code",
   "execution_count": null,
   "metadata": {},
   "outputs": [],
   "source": [
    "# 3E: Put you code for 3E here"
   ]
  },
  {
   "cell_type": "markdown",
   "metadata": {},
   "source": [
    "<hr>"
   ]
  },
  {
   "cell_type": "markdown",
   "metadata": {},
   "source": [
    "### Part 4: Modeling Birth and death of CFUs\n",
    "Recall the self-renewal assay from Siminovitch, Till and McCulloch 1963 (right) <img src=\"/_static/CFUs_selfrenewal.png\" width=\"200\" align=\"right\">\n",
    "In this assay, nodules were dissected, cells were dispersed, resuspended, and tranplanted into secondary recipients. Then after 10 days (or later depending on the experiment), the number of spleen nodules were counted per recipient. Recall that the number of nodules (or colonies) per spleen was highly heterogeneous. To the authors, this indicated that heterogeneity was \"... a feature either of colony-forming cells or of the process of colony-formation.\" "
   ]
  },
  {
   "cell_type": "markdown",
   "metadata": {},
   "source": [
    "<img src=\"/_static/birth_death.png\" width=\"200\" align=\"left\"> In a follow-up [paper: Till, McCulloch, and Siminovitch, 1963](https://blackboard.jhu.edu/bbcswebdav/pid-11413450-dt-content-rid-113157130_2/xid-113157130_2), this trio proposed that the heterotengeity could be due to inherent stochasticity in each colony-forming cell. In other words, a colony forming cell \"... either give[s] rise to progeny like itself (\\\"birth\\\"), or [is] removed in some way (\\\"death\\\"), and these two events occur in a random fashion.\" This is often referred to as a \"Birth-and-death process\". They reasoned that a cell will give birth to another colony forming cell with Probability = p2 or to a differentiated cells with Probability = p0 (see panel at left). They further reasoned that if this model is correct, then simulations using the model must be aligned with their empircal observations."
   ]
  },
  {
   "cell_type": "markdown",
   "metadata": {},
   "source": [
    "The goal of Part 4 is for you to replicate some of what the authors did to test this reasoning:\n",
    "\n",
    "> A test of this assumption was made by the use of the Monte Carlo method. In this method, the choice between occurrence or nonoccurrence of a random event is made by drawing a number from a table of random digits. Consider as an example the case in which the birth and death probabilities, p2 and p0, are arbitrarily set equal to 0.6 and 0.4, respectively. Let the six digits, 0, 1, 2, 3, 4, and 5 signify a \"birth\" and the four digits 6, 7, 8, and 9 signify a \"death.\" If the first random number to be drawn was a 5, then the model would show a birth, or an increase from one cell to two cells. Each subsequent choice of a number would determine the fate of a cell in a similar manner."
   ]
  },
  {
   "cell_type": "markdown",
   "metadata": {},
   "source": [
    "#### Part 4A: Write a function to simulate the number of colony forming units.\n",
    "Your task is to precisley mimic what the authors state above: write a function that takes as input:\n",
    "\n",
    "- the number of time steps, or generations\n",
    "- P<sub>2</sub> = probability of birth, resulting in two colony forming units \n",
    "\n",
    "and that outputs the number of CFUs remaining. Note that a death event results in a loss of one CFU, whereas a birth yields two CFUs. You may consider using the Numpy function `random.uniform()` here."
   ]
  },
  {
   "cell_type": "code",
   "execution_count": 162,
   "metadata": {},
   "outputs": [],
   "source": [
    "# 4A: Write your function definition here\n",
    "def MonteCarloSim(time_steps, p2):\n",
    "    p0 = 1 - p2\n",
    "    \n",
    "    random_events = np.random.uniform(0,10,time_steps)\n",
    "    \n",
    "    death = p0 * 10\n",
    "    \n",
    "    CFU = 1\n",
    "    \n",
    "    history = []\n",
    "    for event in random_events:\n",
    "        if event > death:\n",
    "            CFU = CFU + 1\n",
    "        if event <= death:\n",
    "            # I'm assuming the population doesn't go below 0 since it isn't specified\n",
    "            if CFU > 0:\n",
    "                CFU = CFU - 1\n",
    "        history.append(CFU)\n",
    "        \n",
    "    print(CFU)\n",
    "    return history"
   ]
  },
  {
   "cell_type": "code",
   "execution_count": 165,
   "metadata": {},
   "outputs": [
    {
     "name": "stdout",
     "output_type": "stream",
     "text": [
      "1\n"
     ]
    },
    {
     "data": {
      "text/plain": [
       "[0, 1, 2, 1, 0, 1]"
      ]
     },
     "execution_count": 165,
     "metadata": {},
     "output_type": "execute_result"
    }
   ],
   "source": [
    "# 4A: Show us an example of how it works here\n",
    "MonteCarloSim(6,0.6)"
   ]
  },
  {
   "cell_type": "markdown",
   "metadata": {},
   "source": [
    "#### Part 4B: Compare *in silico* experiments to empirical data\n",
    "Use your function to determine how values of P<sub>2</sub> influence the distribution of CFUs, and how this compares to real data.\n",
    "To do this, you will need to call your function many times. For this homework, let's stay close to the original paper (n=52 recipient spleens).\n",
    "You will also need the original [data](https://compstemcellbio.s3.amazonaws.com/2022/homework/01/hw1_cfu_data.csv), which you can load with the usual `pd.read_csv()` function.\n",
    "We recommend testing 3 - 5 values for P<sub>2</sub>. As you will see from the original paper, the simulated and experimentally derived data were compared by examining cumulative distribution functions. You can readily plot these using the Seaborn `ecdfplot()` function.\n",
    "\n",
    "Bonus points: Compare these distrubitions to the Gamma distribution mentioned in the paper."
   ]
  },
  {
   "cell_type": "code",
   "execution_count": 178,
   "metadata": {},
   "outputs": [
    {
     "name": "stdout",
     "output_type": "stream",
     "text": [
      "1\n",
      "1\n",
      "14\n",
      "38\n",
      "0\n"
     ]
    },
    {
     "data": {
      "text/plain": [
       "<AxesSubplot:ylabel='Proportion'>"
      ]
     },
     "execution_count": 178,
     "metadata": {},
     "output_type": "execute_result"
    },
    {
     "data": {
      "image/png": "[encoded data removed]",
      "text/plain": [
       "<Figure size 432x288 with 1 Axes>"
      ]
     },
     "metadata": {
      "needs_background": "light"
     },
     "output_type": "display_data"
    }
   ],
   "source": [
    "# 4B: Show your code and figure(s) here.\n",
    "data = pd.read_csv('hw1_cfu_data.csv')\n",
    "P2_values = [0.2, 0.4, 0.7, 0.9, 0.3]\n",
    "\n",
    "for value in P2_values:\n",
    "    col_name = str(value) + \" CFUs\"\n",
    "    col_values = MonteCarloSim(51, value)\n",
    "    data[col_name] = col_values\n",
    "\n",
    "data_minus_trial = data.drop(labels=['trial'], axis=1)     \n",
    "sns.ecdfplot(data_minus_trial)"
   ]
  },
  {
   "cell_type": "code",
   "execution_count": null,
   "metadata": {},
   "outputs": [],
   "source": []
  }
 ],
 "metadata": {
  "kernelspec": {
   "display_name": "Python 3",
   "language": "python",
   "name": "python3"
  },
  "language_info": {
   "codemirror_mode": {
    "name": "ipython",
    "version": 3
   },
   "file_extension": ".py",
   "mimetype": "text/x-python",
   "name": "python",
   "nbconvert_exporter": "python",
   "pygments_lexer": "ipython3",
   "version": "3.8.8"
  }
 },
 "nbformat": 4,
 "nbformat_minor": 4
}
